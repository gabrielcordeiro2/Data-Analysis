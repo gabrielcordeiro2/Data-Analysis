{
  "cells": [
    {
      "cell_type": "markdown",
      "metadata": {
        "id": "view-in-github",
        "colab_type": "text"
      },
      "source": [
        "<a href=\"https://colab.research.google.com/github/gabrielcordeiro2/LOL-Champion-Analysis/blob/main/Scrapping_Colab.ipynb\" target=\"_parent\"><img src=\"https://colab.research.google.com/assets/colab-badge.svg\" alt=\"Open In Colab\"/></a>"
      ]
    },
    {
      "cell_type": "markdown",
      "metadata": {
        "id": "_snbLKhHf3eR"
      },
      "source": [
        "**Important:** if you have any errors:\n",
        "- go to Runtime > Restart Runtime, or just press Ctrl + M + (.)\n",
        "- try run all boxes again"
      ]
    },
    {
      "cell_type": "markdown",
      "metadata": {
        "id": "Q55ynYhqvKPB"
      },
      "source": [
        "**Important:** you need to download and upload the **files folder** located in this repository:\n",
        "- https://github.com/gabrielcordeiro2/LOL-Champion-Analysis\n",
        "- or you can directly download using command line:"
      ]
    },
    {
      "cell_type": "code",
      "execution_count": null,
      "metadata": {
        "id": "hna4cKLMygGA"
      },
      "outputs": [],
      "source": [
        "!apt install unzip -q\n",
        "!wget https://tinyurl.com/2p8fpkf7 -q\n",
        "!unzip 2p8fpkf7"
      ]
    },
    {
      "cell_type": "markdown",
      "metadata": {
        "id": "E3jON3gOI_tr"
      },
      "source": [
        "Import necessary files and libs:"
      ]
    },
    {
      "cell_type": "code",
      "execution_count": null,
      "metadata": {
        "id": "E6NX7HvlHYHL"
      },
      "outputs": [],
      "source": [
        "import requests\n",
        "import pandas as pd\n",
        "from bs4 import BeautifulSoup\n",
        "from files.lol_regions import regions\n",
        "from files.lol_genders import genders\n",
        "from files.lol_names import correction_roles"
      ]
    },
    {
      "cell_type": "markdown",
      "metadata": {
        "id": "9ZtPbUDFJFI2"
      },
      "source": [
        "### __Champion gender:__"
      ]
    },
    {
      "cell_type": "markdown",
      "metadata": {
        "id": "dzpI9le1JH11"
      },
      "source": [
        "Create Dataframe:"
      ]
    },
    {
      "cell_type": "code",
      "execution_count": null,
      "metadata": {
        "id": "yiTN3k19JB1y"
      },
      "outputs": [],
      "source": [
        "lol_df = pd.read_csv(\"files/data.csv\")"
      ]
    },
    {
      "cell_type": "markdown",
      "metadata": {
        "id": "H_KheC0TJRUa"
      },
      "source": [
        "Add gender to respective champions:"
      ]
    },
    {
      "cell_type": "code",
      "execution_count": null,
      "metadata": {
        "id": "zuT9u0-GJUgI"
      },
      "outputs": [],
      "source": [
        "for k,v in genders.items():\n",
        "    lol_df.loc[lol_df[\"champion\"] == k, \"gender\"] = v"
      ]
    },
    {
      "cell_type": "code",
      "execution_count": null,
      "metadata": {
        "id": "Q8ZpDBElJW4k"
      },
      "outputs": [],
      "source": [
        "lol_df"
      ]
    },
    {
      "cell_type": "markdown",
      "metadata": {
        "id": "0CH1nmB1JTHi"
      },
      "source": [
        "### __Champion roles:__"
      ]
    },
    {
      "cell_type": "markdown",
      "metadata": {
        "id": "fJWgL3S2Jc9n"
      },
      "source": [
        "Get list from API of all champions:"
      ]
    },
    {
      "cell_type": "code",
      "execution_count": null,
      "metadata": {
        "id": "jy_3r2pnJe5a"
      },
      "outputs": [],
      "source": [
        "patch = \"12.12.1\"\n",
        "ddragon = requests.get(f\"http://ddragon.leagueoflegends.com/cdn/{patch}/data/en_US/champion.json\").json()\n",
        "champions_all_info = list(ddragon['data'].items())"
      ]
    },
    {
      "cell_type": "markdown",
      "metadata": {
        "id": "6JkSOqiTJk9l"
      },
      "source": [
        "Create list from API keys:"
      ]
    },
    {
      "cell_type": "code",
      "execution_count": null,
      "metadata": {
        "id": "2Vi1Ibd5Jnh-"
      },
      "outputs": [],
      "source": [
        "champions_keys = []\n",
        "for info_tuple in champions_all_info:\n",
        "    champions_keys.append(info_tuple[0])"
      ]
    },
    {
      "cell_type": "code",
      "execution_count": null,
      "metadata": {
        "id": "lEJTUudiJp67"
      },
      "outputs": [],
      "source": [
        "champions_keys"
      ]
    },
    {
      "cell_type": "markdown",
      "metadata": {
        "id": "tdrf4QbiJr-x"
      },
      "source": [
        "Storage information about champíons:"
      ]
    },
    {
      "cell_type": "code",
      "execution_count": null,
      "metadata": {
        "id": "-hqgrU9VJ1nZ"
      },
      "outputs": [],
      "source": [
        "champions_tuple = tuple(champions_all_info)"
      ]
    },
    {
      "cell_type": "markdown",
      "metadata": {
        "id": "4oKt-gquJ3vB"
      },
      "source": [
        "Create list with champions:"
      ]
    },
    {
      "cell_type": "code",
      "execution_count": null,
      "metadata": {
        "id": "iL9yAWelJ5cb"
      },
      "outputs": [],
      "source": [
        "list_champions = []\n",
        "for i in champions_tuple:\n",
        "    list_champions.append(i[1][\"name\"])"
      ]
    },
    {
      "cell_type": "markdown",
      "metadata": {
        "id": "06kDA9FLKGUu"
      },
      "source": [
        "Create list with champions and tags:"
      ]
    },
    {
      "cell_type": "code",
      "execution_count": null,
      "metadata": {
        "id": "s07k-d04KG8x"
      },
      "outputs": [],
      "source": [
        "list_tags = []\n",
        "for k,c in zip(champions_keys, list_champions):\n",
        "    tag_champion = ddragon['data'][k]['tags']\n",
        "    try:\n",
        "        list_tags.append([c, f\"{tag_champion[0]}, {tag_champion[1]}\"])\n",
        "    except:\n",
        "        list_tags.append([c, f\"{tag_champion[0]}\"])"
      ]
    },
    {
      "cell_type": "code",
      "execution_count": null,
      "metadata": {
        "id": "TeAbRz2kKJ3z"
      },
      "outputs": [],
      "source": [
        "list_tags"
      ]
    },
    {
      "cell_type": "markdown",
      "metadata": {
        "id": "7OnlFYhBKMN7"
      },
      "source": [
        "Create Dataframe:"
      ]
    },
    {
      "cell_type": "code",
      "execution_count": null,
      "metadata": {
        "id": "7x7ZJ9YuKfeS"
      },
      "outputs": [],
      "source": [
        "tags_df = pd.DataFrame(list_tags, columns=[\"champion\", \"role\"])"
      ]
    },
    {
      "cell_type": "markdown",
      "metadata": {
        "id": "eTr0hj0PKivJ"
      },
      "source": [
        "Apply name correction in dataframe::"
      ]
    },
    {
      "cell_type": "code",
      "execution_count": null,
      "metadata": {
        "id": "OTxM8V3YKjGM"
      },
      "outputs": [],
      "source": [
        "for key, value in correction_roles.items():\n",
        "    lol_df.loc[lol_df[\"champion\"] == key, \"champion\"] = value"
      ]
    },
    {
      "cell_type": "markdown",
      "metadata": {
        "id": "X60M_hL4KlRO"
      },
      "source": [
        "Merge Dataframes:"
      ]
    },
    {
      "cell_type": "code",
      "execution_count": null,
      "metadata": {
        "id": "hB8Dmm93Kqlz"
      },
      "outputs": [],
      "source": [
        "lol_df = lol_df.merge(tags_df)"
      ]
    },
    {
      "cell_type": "code",
      "execution_count": null,
      "metadata": {
        "id": "C1BIaHktKr-D"
      },
      "outputs": [],
      "source": [
        "lol_df"
      ]
    },
    {
      "cell_type": "markdown",
      "metadata": {
        "id": "e9jYvJbLKzzS"
      },
      "source": [
        "### __Champion Stats with Selenium:__"
      ]
    },
    {
      "cell_type": "markdown",
      "metadata": {
        "id": "6QdjLp0FKyL5"
      },
      "source": [
        "**Note:**\n",
        "- you need to install Selenium and Kora to proceed.\n",
        "- Selenium will emulate an hidden browser in your Colab."
      ]
    },
    {
      "cell_type": "code",
      "execution_count": null,
      "metadata": {
        "id": "DCweX1hsK3yG"
      },
      "outputs": [],
      "source": [
        "!pip3 install --upgrade requests -q\n",
        "!pip install kora -q\n",
        "!pip install selenium -q"
      ]
    },
    {
      "cell_type": "code",
      "execution_count": null,
      "metadata": {
        "id": "g-smVM54MBAu"
      },
      "outputs": [],
      "source": [
        "from kora.selenium import wd\n",
        "from selenium.webdriver.common.by import By"
      ]
    },
    {
      "cell_type": "code",
      "execution_count": null,
      "metadata": {
        "id": "k6XZA_jhMW_q"
      },
      "outputs": [],
      "source": [
        "url = \"https://na.op.gg/statistics/champions?hl=en_US&region=global\"\n",
        "\n",
        "wd.get(url)\n",
        "wd.implicitly_wait(7)\n",
        "wd.find_element(By.XPATH, '//*[@id=\"content-container\"]/div[2]/table/tbody/tr[118]/td[2]')\n",
        "\n",
        "html = wd.page_source\n",
        "wd.close()"
      ]
    },
    {
      "cell_type": "markdown",
      "metadata": {
        "id": "SNCtdSTyNMay"
      },
      "source": [
        "Transform html table into dataframe:"
      ]
    },
    {
      "cell_type": "code",
      "execution_count": null,
      "metadata": {
        "id": "o1kFkmaoNNZg"
      },
      "outputs": [],
      "source": [
        "stats_df = pd.read_html(html)\n",
        "stats_df = stats_df[1]"
      ]
    },
    {
      "cell_type": "code",
      "execution_count": null,
      "metadata": {
        "id": "KUApTsyVNPlQ"
      },
      "outputs": [],
      "source": [
        "stats_df"
      ]
    },
    {
      "cell_type": "markdown",
      "metadata": {
        "id": "LtNRFSm4NeIc"
      },
      "source": [
        "Clean and organize column names:"
      ]
    },
    {
      "cell_type": "code",
      "execution_count": null,
      "metadata": {
        "id": "XLp5CVniNfmZ"
      },
      "outputs": [],
      "source": [
        "stats_df.drop([\"#\", \"CS\", \"Gold\", \"Games played\", \"KDA\"], inplace=True, axis=1, errors='ignore')\n",
        "stats_df.rename(\n",
        "inplace=True,\n",
        "columns= {\"Champion\": \"champion\", \n",
        "          \"Win rate\": \"win_rate\",\n",
        "          \"Pick ratio per game\": \"pick_rate\",\n",
        "          \"Ban ratio per game\": \"ban_rate\"})\n",
        "          \n",
        "stats_df.sort_values(\"champion\", inplace=True, axis=0, ignore_index=True)"
      ]
    },
    {
      "cell_type": "markdown",
      "metadata": {
        "id": "d2cHVHc-NiCY"
      },
      "source": [
        "Merge Dataframes:"
      ]
    },
    {
      "cell_type": "code",
      "execution_count": null,
      "metadata": {
        "id": "CrIBv-lQNhfx"
      },
      "outputs": [],
      "source": [
        "lol_df = lol_df.merge(stats_df, sort=True)"
      ]
    },
    {
      "cell_type": "code",
      "execution_count": null,
      "metadata": {
        "id": "BgiRcz-UNnPt"
      },
      "outputs": [],
      "source": [
        "stats_df"
      ]
    },
    {
      "cell_type": "code",
      "execution_count": null,
      "metadata": {
        "id": "bTLv_a7QNqEd"
      },
      "outputs": [],
      "source": [
        "lol_df"
      ]
    },
    {
      "cell_type": "markdown",
      "metadata": {
        "id": "xQIcaziyOCdT"
      },
      "source": [
        "### __Champion Region with Requests:__"
      ]
    },
    {
      "cell_type": "code",
      "execution_count": null,
      "metadata": {
        "id": "P9Rf6LaWODqs"
      },
      "outputs": [],
      "source": [
        "def get_json_and_scrap(reg):\n",
        "    url = f'https://universe-meeps.leagueoflegends.com/v1/en_gb/factions/{reg}/index.json'\n",
        "    response = requests.get(url).json()\n",
        "\n",
        "    region_name = response['faction']['name']\n",
        "    region_members = response['associated-champions']\n",
        "\n",
        "    for i in region_members:\n",
        "        champ_name = i['title']\n",
        "        champs_with_region.append([champ_name, region_name])\n",
        "    return"
      ]
    },
    {
      "cell_type": "markdown",
      "metadata": {
        "id": "_1PT0lLMPLPt"
      },
      "source": [
        "Run multi-page scrapping:"
      ]
    },
    {
      "cell_type": "code",
      "execution_count": null,
      "metadata": {
        "id": "u6eiikOnO8-S"
      },
      "outputs": [],
      "source": [
        "champs_with_region = []\n",
        "for region in regions:  #   ~8 seconds\n",
        "    get_json_and_scrap(region)"
      ]
    },
    {
      "cell_type": "code",
      "execution_count": null,
      "metadata": {
        "id": "rp_ahSTPPEB7"
      },
      "outputs": [],
      "source": [
        "champs_with_region"
      ]
    },
    {
      "cell_type": "markdown",
      "metadata": {
        "id": "d6XyPR50aP60"
      },
      "source": [
        "Create Dataframe:"
      ]
    },
    {
      "cell_type": "code",
      "execution_count": null,
      "metadata": {
        "id": "K2lxTshIaTl_"
      },
      "outputs": [],
      "source": [
        "scrap_region_df = pd.DataFrame(champs_with_region, columns=[\"champion\",\"region\"])"
      ]
    },
    {
      "cell_type": "code",
      "execution_count": null,
      "metadata": {
        "id": "i9oGuCu2aslz"
      },
      "outputs": [],
      "source": [
        "scrap_region_df"
      ]
    },
    {
      "cell_type": "markdown",
      "metadata": {
        "id": "1b92lpD8a1X8"
      },
      "source": [
        "Create an function to organize dataframes:"
      ]
    },
    {
      "cell_type": "code",
      "execution_count": null,
      "metadata": {
        "id": "Tu2pO8rea15b"
      },
      "outputs": [],
      "source": [
        "def drop_and_sort_rows(dframe):\n",
        "    dframe.drop_duplicates(subset=\"champion\", keep=\"first\", inplace=True)\n",
        "    dframe.sort_values(by=\"champion\",ignore_index=True, inplace=True)\n",
        "    return"
      ]
    },
    {
      "cell_type": "markdown",
      "metadata": {
        "id": "n1m6mTBua4zO"
      },
      "source": [
        "Organize and apply name correction:"
      ]
    },
    {
      "cell_type": "code",
      "execution_count": null,
      "metadata": {
        "id": "85SCYR42a5XA"
      },
      "outputs": [],
      "source": [
        "scrap_region_df.champion.replace(\"’\",\"'\", regex=True, inplace=True)\n",
        "drop_and_sort_rows(scrap_region_df)"
      ]
    },
    {
      "cell_type": "markdown",
      "metadata": {
        "id": "CN0iOoi3a9N7"
      },
      "source": [
        "Create template with organized champions:"
      ]
    },
    {
      "cell_type": "code",
      "execution_count": null,
      "metadata": {
        "id": "QiQ3jbYPa-dZ"
      },
      "outputs": [],
      "source": [
        "main_champions = pd.DataFrame({\"champion\":lol_df.champion.unique()})\n",
        "drop_and_sort_rows(main_champions)"
      ]
    },
    {
      "cell_type": "markdown",
      "metadata": {
        "id": "8yUw1UdBbAbH"
      },
      "source": [
        "Merge data to region Dataframe:"
      ]
    },
    {
      "cell_type": "code",
      "execution_count": null,
      "metadata": {
        "id": "-HfJcyuEbEMQ"
      },
      "outputs": [],
      "source": [
        "full_region_df = main_champions.merge(scrap_region_df, how=\"left\", sort=True)\n",
        "drop_and_sort_rows(full_region_df)"
      ]
    },
    {
      "cell_type": "markdown",
      "metadata": {
        "id": "bbDQE9XLbFdP"
      },
      "source": [
        "Add Runeterra for champions without region:"
      ]
    },
    {
      "cell_type": "code",
      "execution_count": null,
      "metadata": {
        "id": "AdNpIBqvbF4u"
      },
      "outputs": [],
      "source": [
        "full_region_df.region.loc[full_region_df.region.isnull()] = \"Runeterra\""
      ]
    },
    {
      "cell_type": "markdown",
      "metadata": {
        "id": "eHeGoYLsbIQR"
      },
      "source": [
        "Merge dataframes:"
      ]
    },
    {
      "cell_type": "code",
      "execution_count": null,
      "metadata": {
        "id": "9KNDpUyBbJCQ"
      },
      "outputs": [],
      "source": [
        "lol_df = lol_df.merge(full_region_df, sort=True)"
      ]
    },
    {
      "cell_type": "code",
      "execution_count": null,
      "metadata": {
        "id": "d6Blp0r2bMox"
      },
      "outputs": [],
      "source": [
        "full_region_df"
      ]
    },
    {
      "cell_type": "code",
      "execution_count": null,
      "metadata": {
        "id": "ULy2QQNBbNSH"
      },
      "outputs": [],
      "source": [
        "lol_df"
      ]
    }
  ],
  "metadata": {
    "colab": {
      "name": "Scrapping_Colab.ipynb",
      "provenance": [],
      "include_colab_link": true
    },
    "kernelspec": {
      "display_name": "Python 3.8.10 64-bit",
      "language": "python",
      "name": "python3"
    },
    "language_info": {
      "codemirror_mode": {
        "name": "ipython",
        "version": 3
      },
      "file_extension": ".py",
      "mimetype": "text/x-python",
      "name": "python",
      "nbconvert_exporter": "python",
      "pygments_lexer": "ipython3",
      "version": "3.8.10"
    },
    "vscode": {
      "interpreter": {
        "hash": "916dbcbb3f70747c44a77c7bcd40155683ae19c65e1c03b4aa3499c5328201f1"
      }
    }
  },
  "nbformat": 4,
  "nbformat_minor": 0
}