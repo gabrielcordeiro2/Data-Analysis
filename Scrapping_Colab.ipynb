{
  "nbformat": 4,
  "nbformat_minor": 0,
  "metadata": {
    "colab": {
      "name": "DataScrap_Colab.ipynb",
      "provenance": [],
      "authorship_tag": "ABX9TyPAJVtnrh7cYJj1nv2tz49D",
      "include_colab_link": true
    },
    "kernelspec": {
      "name": "python3",
      "display_name": "Python 3"
    },
    "language_info": {
      "name": "python"
    }
  },
  "cells": [
    {
      "cell_type": "markdown",
      "metadata": {
        "id": "view-in-github",
        "colab_type": "text"
      },
      "source": [
        "<a href=\"https://colab.research.google.com/github/gabrielcordeiro2/LOL-Champion-Analysis/blob/main/Scrapping_Colab.ipynb\" target=\"_parent\"><img src=\"https://colab.research.google.com/assets/colab-badge.svg\" alt=\"Open In Colab\"/></a>"
      ]
    },
    {
      "cell_type": "markdown",
      "source": [
        "**Important:** if you have any errors:\n",
        "- go to Runtime > Restart Runtime, or just press Ctrl + M + (.)\n",
        "- try run all boxes again"
      ],
      "metadata": {
        "id": "_snbLKhHf3eR"
      }
    },
    {
      "cell_type": "markdown",
      "source": [
        "**Important:** you need to download and upload the **files folder** located in this repository:\n",
        "- https://github.com/gabrielcordeiro2/LOL-Champion-Analysis\n",
        "- or you can directly download using command line:"
      ],
      "metadata": {
        "id": "Q55ynYhqvKPB"
      }
    },
    {
      "cell_type": "code",
      "source": [
        "!apt install unzip -q\n",
        "!wget https://tinyurl.com/2p8fpkf7 -q\n",
        "!unzip 2p8fpkf7"
      ],
      "metadata": {
        "id": "hna4cKLMygGA"
      },
      "execution_count": null,
      "outputs": []
    },
    {
      "cell_type": "markdown",
      "source": [
        "Import necessary files and libs:"
      ],
      "metadata": {
        "id": "E3jON3gOI_tr"
      }
    },
    {
      "cell_type": "code",
      "execution_count": 3,
      "metadata": {
        "id": "E6NX7HvlHYHL"
      },
      "outputs": [],
      "source": [
        "import requests\n",
        "import pandas as pd\n",
        "import time\n",
        "from bs4 import BeautifulSoup\n",
        "from files.lol_regions import regions\n",
        "from files.lol_genders import genders\n",
        "from files.lol_names import correction_roles"
      ]
    },
    {
      "cell_type": "markdown",
      "source": [
        "### __Champion gender:__"
      ],
      "metadata": {
        "id": "9ZtPbUDFJFI2"
      }
    },
    {
      "cell_type": "markdown",
      "source": [
        "Create Dataframe:"
      ],
      "metadata": {
        "id": "dzpI9le1JH11"
      }
    },
    {
      "cell_type": "code",
      "source": [
        "lol_df = pd.read_csv(\"files/data.csv\")"
      ],
      "metadata": {
        "id": "yiTN3k19JB1y"
      },
      "execution_count": 2,
      "outputs": []
    },
    {
      "cell_type": "markdown",
      "source": [
        "Add gender to respective champions:"
      ],
      "metadata": {
        "id": "H_KheC0TJRUa"
      }
    },
    {
      "cell_type": "code",
      "source": [
        "for k,v in genders.items():\n",
        "    lol_df.loc[lol_df[\"champion\"] == k, \"gender\"] = v"
      ],
      "metadata": {
        "id": "zuT9u0-GJUgI"
      },
      "execution_count": 3,
      "outputs": []
    },
    {
      "cell_type": "code",
      "source": [
        "lol_df"
      ],
      "metadata": {
        "id": "Q8ZpDBElJW4k"
      },
      "execution_count": null,
      "outputs": []
    },
    {
      "cell_type": "markdown",
      "source": [
        "### __Champion roles:__"
      ],
      "metadata": {
        "id": "0CH1nmB1JTHi"
      }
    },
    {
      "cell_type": "markdown",
      "source": [
        "Get list from API of all champions:"
      ],
      "metadata": {
        "id": "fJWgL3S2Jc9n"
      }
    },
    {
      "cell_type": "code",
      "source": [
        "patch = \"12.12.1\"\n",
        "ddragon = requests.get(f\"http://ddragon.leagueoflegends.com/cdn/{patch}/data/en_US/champion.json\").json()\n",
        "champions_all_info = list(ddragon['data'].items())"
      ],
      "metadata": {
        "id": "jy_3r2pnJe5a"
      },
      "execution_count": 5,
      "outputs": []
    },
    {
      "cell_type": "markdown",
      "source": [
        "Create list from API keys:"
      ],
      "metadata": {
        "id": "6JkSOqiTJk9l"
      }
    },
    {
      "cell_type": "code",
      "source": [
        "champions_keys = []\n",
        "for info_tuple in champions_all_info:\n",
        "    champions_keys.append(info_tuple[0])"
      ],
      "metadata": {
        "id": "2Vi1Ibd5Jnh-"
      },
      "execution_count": 6,
      "outputs": []
    },
    {
      "cell_type": "code",
      "source": [
        "champions_keys"
      ],
      "metadata": {
        "id": "lEJTUudiJp67"
      },
      "execution_count": null,
      "outputs": []
    },
    {
      "cell_type": "markdown",
      "source": [
        "Storage information about champíons:"
      ],
      "metadata": {
        "id": "tdrf4QbiJr-x"
      }
    },
    {
      "cell_type": "code",
      "source": [
        "champions_tuple = tuple(champions_all_info)"
      ],
      "metadata": {
        "id": "-hqgrU9VJ1nZ"
      },
      "execution_count": 8,
      "outputs": []
    },
    {
      "cell_type": "markdown",
      "source": [
        "Create list with champions:"
      ],
      "metadata": {
        "id": "4oKt-gquJ3vB"
      }
    },
    {
      "cell_type": "code",
      "source": [
        "list_champions = []\n",
        "for i in champions_tuple:\n",
        "    list_champions.append(i[1][\"name\"])"
      ],
      "metadata": {
        "id": "iL9yAWelJ5cb"
      },
      "execution_count": 9,
      "outputs": []
    },
    {
      "cell_type": "markdown",
      "source": [
        "Create list with chompions and tags:"
      ],
      "metadata": {
        "id": "06kDA9FLKGUu"
      }
    },
    {
      "cell_type": "code",
      "source": [
        "list_tags = []\n",
        "for k,c in zip(champions_keys, list_champions):\n",
        "    tag_champion = ddragon['data'][k]['tags']\n",
        "    try:\n",
        "        list_tags.append([c, f\"{tag_champion[0]}, {tag_champion[1]}\"])\n",
        "    except:\n",
        "        list_tags.append([c, f\"{tag_champion[0]}\"])"
      ],
      "metadata": {
        "id": "s07k-d04KG8x"
      },
      "execution_count": 10,
      "outputs": []
    },
    {
      "cell_type": "code",
      "source": [
        "list_tags"
      ],
      "metadata": {
        "id": "TeAbRz2kKJ3z"
      },
      "execution_count": null,
      "outputs": []
    },
    {
      "cell_type": "markdown",
      "source": [
        "Create Dataframe:"
      ],
      "metadata": {
        "id": "7OnlFYhBKMN7"
      }
    },
    {
      "cell_type": "code",
      "source": [
        "tags_df = pd.DataFrame(list_tags, columns=[\"champion\", \"role\"])"
      ],
      "metadata": {
        "id": "7x7ZJ9YuKfeS"
      },
      "execution_count": 12,
      "outputs": []
    },
    {
      "cell_type": "markdown",
      "source": [
        "Apply name correction in dataframe::"
      ],
      "metadata": {
        "id": "eTr0hj0PKivJ"
      }
    },
    {
      "cell_type": "code",
      "source": [
        "for key, value in correction_roles.items():\n",
        "    lol_df.loc[lol_df[\"champion\"] == key, \"champion\"] = value"
      ],
      "metadata": {
        "id": "OTxM8V3YKjGM"
      },
      "execution_count": 13,
      "outputs": []
    },
    {
      "cell_type": "markdown",
      "source": [
        "Merge Dataframes:"
      ],
      "metadata": {
        "id": "X60M_hL4KlRO"
      }
    },
    {
      "cell_type": "code",
      "source": [
        "lol_df = lol_df.merge(tags_df)"
      ],
      "metadata": {
        "id": "hB8Dmm93Kqlz"
      },
      "execution_count": 14,
      "outputs": []
    },
    {
      "cell_type": "code",
      "source": [
        "lol_df"
      ],
      "metadata": {
        "id": "C1BIaHktKr-D"
      },
      "execution_count": null,
      "outputs": []
    },
    {
      "cell_type": "markdown",
      "source": [
        "### __Champion Stats with Selenium:__"
      ],
      "metadata": {
        "id": "e9jYvJbLKzzS"
      }
    },
    {
      "cell_type": "markdown",
      "source": [
        "**Note:**\n",
        "- you need to install Selenium and Kora to proceed.\n",
        "- Selenium will emulate an hidden browser in your Colab."
      ],
      "metadata": {
        "id": "6QdjLp0FKyL5"
      }
    },
    {
      "cell_type": "code",
      "source": [
        "!pip3 install --upgrade requests -q\n",
        "!pip install kora -q\n",
        "!pip install selenium -q"
      ],
      "metadata": {
        "id": "DCweX1hsK3yG"
      },
      "execution_count": 24,
      "outputs": []
    },
    {
      "cell_type": "code",
      "source": [
        "from kora.selenium import wd\n",
        "from selenium.webdriver.common.by import By"
      ],
      "metadata": {
        "id": "g-smVM54MBAu"
      },
      "execution_count": 16,
      "outputs": []
    },
    {
      "cell_type": "code",
      "source": [
        "url = \"https://na.op.gg/statistics/champions?hl=en_US&region=global\"\n",
        "\n",
        "wd.get(url)\n",
        "wd.implicitly_wait(7)\n",
        "wd.find_element(By.XPATH, '//*[@id=\"content-container\"]/div[2]/table/tbody/tr[118]/td[2]')\n",
        "\n",
        "html = wd.page_source\n",
        "wd.close()"
      ],
      "metadata": {
        "id": "k6XZA_jhMW_q"
      },
      "execution_count": 17,
      "outputs": []
    },
    {
      "cell_type": "markdown",
      "source": [
        "Transform html table into dataframe:"
      ],
      "metadata": {
        "id": "SNCtdSTyNMay"
      }
    },
    {
      "cell_type": "code",
      "source": [
        "stats_df = pd.read_html(html)\n",
        "stats_df = stats_df[1]"
      ],
      "metadata": {
        "id": "o1kFkmaoNNZg"
      },
      "execution_count": 18,
      "outputs": []
    },
    {
      "cell_type": "code",
      "source": [
        "stats_df"
      ],
      "metadata": {
        "id": "KUApTsyVNPlQ"
      },
      "execution_count": null,
      "outputs": []
    },
    {
      "cell_type": "markdown",
      "source": [
        "Clean and organize column names:"
      ],
      "metadata": {
        "id": "LtNRFSm4NeIc"
      }
    },
    {
      "cell_type": "code",
      "source": [
        "stats_df.drop([\"#\", \"CS\", \"Gold\", \"Games played\", \"KDA\"], inplace=True, axis=1, errors='ignore')\n",
        "stats_df.rename(\n",
        "inplace=True,\n",
        "columns= {\"Champion\": \"champion\", \n",
        "          \"Win rate\": \"win_rate\",\n",
        "          \"Pick ratio per game\": \"pick_rate\",\n",
        "          \"Ban ratio per game\": \"ban_rate\"})\n",
        "          \n",
        "stats_df.sort_values(\"champion\", inplace=True, axis=0, ignore_index=True)"
      ],
      "metadata": {
        "id": "XLp5CVniNfmZ"
      },
      "execution_count": 20,
      "outputs": []
    },
    {
      "cell_type": "markdown",
      "source": [
        "Merge Dataframes:"
      ],
      "metadata": {
        "id": "d2cHVHc-NiCY"
      }
    },
    {
      "cell_type": "code",
      "source": [
        "lol_df = lol_df.merge(stats_df, sort=True)"
      ],
      "metadata": {
        "id": "CrIBv-lQNhfx"
      },
      "execution_count": 21,
      "outputs": []
    },
    {
      "cell_type": "code",
      "source": [
        "stats_df"
      ],
      "metadata": {
        "id": "BgiRcz-UNnPt"
      },
      "execution_count": null,
      "outputs": []
    },
    {
      "cell_type": "code",
      "source": [
        "lol_df"
      ],
      "metadata": {
        "id": "bTLv_a7QNqEd"
      },
      "execution_count": null,
      "outputs": []
    },
    {
      "cell_type": "markdown",
      "source": [
        "### __Champion Region with Requests:__"
      ],
      "metadata": {
        "id": "xQIcaziyOCdT"
      }
    },
    {
      "cell_type": "code",
      "source": [
        "def get_json_and_scrap(reg):\n",
        "    url = f'https://universe-meeps.leagueoflegends.com/v1/en_gb/factions/{reg}/index.json'\n",
        "    response = requests.get(url).json()\n",
        "\n",
        "    region_name = response['faction']['name']\n",
        "    region_members = response['associated-champions']\n",
        "\n",
        "    for i in region_members:\n",
        "        champ_name = i['title']\n",
        "        champs_with_region.append([champ_name, region_name])\n",
        "    return"
      ],
      "metadata": {
        "id": "P9Rf6LaWODqs"
      },
      "execution_count": 24,
      "outputs": []
    },
    {
      "cell_type": "markdown",
      "source": [
        "Run multi-page scrapping:"
      ],
      "metadata": {
        "id": "_1PT0lLMPLPt"
      }
    },
    {
      "cell_type": "code",
      "source": [
        "champs_with_region = []\n",
        "for region in regions:  #   ~8 seconds\n",
        "    get_json_and_scrap(region)"
      ],
      "metadata": {
        "id": "u6eiikOnO8-S"
      },
      "execution_count": 25,
      "outputs": []
    },
    {
      "cell_type": "code",
      "source": [
        "champs_with_region"
      ],
      "metadata": {
        "id": "rp_ahSTPPEB7"
      },
      "execution_count": null,
      "outputs": []
    },
    {
      "cell_type": "markdown",
      "source": [
        "Create Dataframe:"
      ],
      "metadata": {
        "id": "d6XyPR50aP60"
      }
    },
    {
      "cell_type": "code",
      "source": [
        "scrap_region_df = pd.DataFrame(champs_with_region, columns=[\"champion\",\"region\"])"
      ],
      "metadata": {
        "id": "K2lxTshIaTl_"
      },
      "execution_count": 27,
      "outputs": []
    },
    {
      "cell_type": "code",
      "source": [
        "scrap_region_df"
      ],
      "metadata": {
        "id": "i9oGuCu2aslz"
      },
      "execution_count": null,
      "outputs": []
    },
    {
      "cell_type": "markdown",
      "source": [
        "Create an function to organize dataframes:"
      ],
      "metadata": {
        "id": "1b92lpD8a1X8"
      }
    },
    {
      "cell_type": "code",
      "source": [
        "def drop_and_sort_rows(dframe):\n",
        "    dframe.drop_duplicates(subset=\"champion\", keep=\"first\", inplace=True)\n",
        "    dframe.sort_values(by=\"champion\",ignore_index=True, inplace=True)\n",
        "    return"
      ],
      "metadata": {
        "id": "Tu2pO8rea15b"
      },
      "execution_count": 29,
      "outputs": []
    },
    {
      "cell_type": "markdown",
      "source": [
        "Organize and apply name correction:"
      ],
      "metadata": {
        "id": "n1m6mTBua4zO"
      }
    },
    {
      "cell_type": "code",
      "source": [
        "scrap_region_df.champion.replace(\"’\",\"'\", regex=True, inplace=True)\n",
        "drop_and_sort_rows(scrap_region_df)"
      ],
      "metadata": {
        "id": "85SCYR42a5XA"
      },
      "execution_count": 30,
      "outputs": []
    },
    {
      "cell_type": "markdown",
      "source": [
        "Create template with organized champions:"
      ],
      "metadata": {
        "id": "CN0iOoi3a9N7"
      }
    },
    {
      "cell_type": "code",
      "source": [
        "main_champions = pd.DataFrame({\"champion\":lol_df.champion.unique()})\n",
        "drop_and_sort_rows(main_champions)"
      ],
      "metadata": {
        "id": "QiQ3jbYPa-dZ"
      },
      "execution_count": 31,
      "outputs": []
    },
    {
      "cell_type": "markdown",
      "source": [
        "Merge data to region Dataframe:"
      ],
      "metadata": {
        "id": "8yUw1UdBbAbH"
      }
    },
    {
      "cell_type": "code",
      "source": [
        "full_region_df = main_champions.merge(scrap_region_df, how=\"left\", sort=True)\n",
        "drop_and_sort_rows(full_region_df)"
      ],
      "metadata": {
        "id": "-HfJcyuEbEMQ"
      },
      "execution_count": 32,
      "outputs": []
    },
    {
      "cell_type": "markdown",
      "source": [
        "Add Runeterra for champions without region:"
      ],
      "metadata": {
        "id": "bbDQE9XLbFdP"
      }
    },
    {
      "cell_type": "code",
      "source": [
        "full_region_df.region.loc[full_region_df.region.isnull()] = \"Runeterra\""
      ],
      "metadata": {
        "id": "AdNpIBqvbF4u"
      },
      "execution_count": 33,
      "outputs": []
    },
    {
      "cell_type": "markdown",
      "source": [
        "Merge dataframes:"
      ],
      "metadata": {
        "id": "eHeGoYLsbIQR"
      }
    },
    {
      "cell_type": "code",
      "source": [
        "lol_df = lol_df.merge(full_region_df, sort=True)"
      ],
      "metadata": {
        "id": "9KNDpUyBbJCQ"
      },
      "execution_count": 34,
      "outputs": []
    },
    {
      "cell_type": "code",
      "source": [
        "full_region_df"
      ],
      "metadata": {
        "id": "d6Blp0r2bMox"
      },
      "execution_count": null,
      "outputs": []
    },
    {
      "cell_type": "code",
      "source": [
        "lol_df"
      ],
      "metadata": {
        "id": "ULy2QQNBbNSH"
      },
      "execution_count": null,
      "outputs": []
    }
  ]
}