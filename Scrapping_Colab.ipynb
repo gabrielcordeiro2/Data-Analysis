{
  "cells": [
    {
      "cell_type": "markdown",
      "metadata": {
        "id": "view-in-github",
        "colab_type": "text"
      },
      "source": [
        "<a href=\"https://colab.research.google.com/github/gabrielcordeiro2/LOL-Champion-Analysis/blob/main/Scrapping_Colab.ipynb\" target=\"_parent\"><img src=\"https://colab.research.google.com/assets/colab-badge.svg\" alt=\"Open In Colab\"/></a>"
      ]
    },
    {
      "cell_type": "markdown",
      "metadata": {
        "id": "_snbLKhHf3eR"
      },
      "source": [
        "**Important:** if you have any errors:\n",
        "- go to Runtime > Restart Runtime, or just press Ctrl + M + (.)\n",
        "- try run all boxes again"
      ]
    },
    {
      "cell_type": "markdown",
      "metadata": {
        "id": "Q55ynYhqvKPB"
      },
      "source": [
        "**Important:** you need to download and upload the **files folder** located in this repository:\n",
        "- https://github.com/gabrielcordeiro2/LOL-Champion-Analysis\n",
        "- or you can directly download using command line:"
      ]
    },
    {
      "cell_type": "code",
      "execution_count": null,
      "metadata": {
        "id": "hna4cKLMygGA"
      },
      "outputs": [],
      "source": [
        "!apt install unzip -q\n",
        "!wget https://tinyurl.com/3e6vnh2j -q\n",
        "!unzip 3e6vnh2j"
      ]
    },
    {
      "cell_type": "markdown",
      "metadata": {
        "id": "E3jON3gOI_tr"
      },
      "source": [
        "Import necessary files and libs:"
      ]
    },
    {
      "cell_type": "code",
      "execution_count": null,
      "metadata": {
        "id": "E6NX7HvlHYHL"
      },
      "outputs": [],
      "source": [
        "import requests\n",
        "import pandas as pd\n",
        "import re\n",
        "from bs4 import BeautifulSoup\n",
        "from files.lol_regions import regions\n",
        "from files.lol_genders import genders\n",
        "from files.lol_names import correction_roles\n",
        "from files.wiki_names import wiki_tags"
      ]
    },
    {
      "cell_type": "markdown",
      "metadata": {
        "id": "uhLwZxDTxRRu"
      },
      "source": [
        "### __Champion Voices:__"
      ]
    },
    {
      "cell_type": "markdown",
      "metadata": {
        "id": "JZzJG405xRRu"
      },
      "source": [
        "Get champions list from API:"
      ]
    },
    {
      "cell_type": "code",
      "execution_count": null,
      "metadata": {
        "id": "Cn3c9FX9xRRu"
      },
      "outputs": [],
      "source": [
        "version = \"12.12.1\"\n",
        "response = requests.get(f\"http://ddragon.leagueoflegends.com/cdn/{version}/data/en_US/champion.json\").json()\n",
        "champions_all_info = list(response['data'].items())\n",
        "champions = list(response['data'].keys())"
      ]
    },
    {
      "cell_type": "markdown",
      "metadata": {
        "id": "I_DmsjM8xRRv"
      },
      "source": [
        "Apply search correction in names:"
      ]
    },
    {
      "cell_type": "code",
      "execution_count": null,
      "metadata": {
        "id": "S6pFyE6sxRRv"
      },
      "outputs": [],
      "source": [
        "lol_champions = list(map(wiki_tags.get, champions, champions))"
      ]
    },
    {
      "cell_type": "code",
      "execution_count": null,
      "metadata": {
        "id": "P5fRfTRgxRRv"
      },
      "outputs": [],
      "source": [
        "def remove_tag_voices(v_line): # \"text 123\" --> text 123\n",
        "    tag_removed = str(v_line)[3:-4]\n",
        "    if ((tag_removed[0] == '\"') and (tag_removed[-1] == '\"')):\n",
        "        return(tag_removed[1:-1],True)\n",
        "    else:\n",
        "        return(tag_removed,False)"
      ]
    },
    {
      "cell_type": "code",
      "execution_count": null,
      "metadata": {
        "id": "WOaTxzuJxRRw"
      },
      "outputs": [],
      "source": [
        "def scrap_voices(dataframe, champ_name):\n",
        "    champ = requests.get(f\"https://leagueoflegends.fandom.com/wiki/{champ_name}/LoL/Audio\")\n",
        "    if champ.status_code == 404:\n",
        "        print(i + \" \" + str(champ.status_code))\n",
        "    no_trivia = re.sub(r'<span class=\"mw-headline\" id=\"Trivia\">.*', '', champ.text, flags=re.DOTALL).strip()\n",
        "    soup = BeautifulSoup(no_trivia, 'html.parser')\n",
        "    unsorted_lines = list(soup.find('div', class_=\"mw-parser-output\").find_all('i'))\n",
        "    \n",
        "    sorted_lines = list(map(remove_tag_voices, unsorted_lines))\n",
        "    formatted_lines = pd.DataFrame([[champ_name,line[0],line[1]] for line in sorted_lines],\n",
        "                                   columns=['champion', 'voice_line', 'is_spoken'])\n",
        "    dataframe = pd.concat([dataframe,formatted_lines])\n",
        "    return dataframe"
      ]
    },
    {
      "cell_type": "markdown",
      "metadata": {
        "id": "R-853flLxRRw"
      },
      "source": [
        "Run multi-page scrapping: (150+ Pages)"
      ]
    },
    {
      "cell_type": "code",
      "execution_count": null,
      "metadata": {
        "id": "iGsJtWrWxRRw"
      },
      "outputs": [],
      "source": [
        "unfiltered_voices = pd.DataFrame(columns=['champion', 'voice_line', 'is_spoken'])\n",
        "for champion in lol_champions:\n",
        "    unfiltered_voices = scrap_voices(unfiltered_voices, champion)\n",
        "unfiltered_voices.to_csv(\"files/unfiltered_voices.csv\", index=False, encoding='utf-8')"
      ]
    },
    {
      "cell_type": "code",
      "execution_count": null,
      "metadata": {
        "id": "SRqlTsZSxRRx"
      },
      "outputs": [],
      "source": [
        "unfiltered_voices"
      ]
    },
    {
      "cell_type": "markdown",
      "metadata": {
        "id": "-86kIqFAxRRx"
      },
      "source": [
        "Create function to Clean Html tags:"
      ]
    },
    {
      "cell_type": "code",
      "execution_count": null,
      "metadata": {
        "id": "_HTzPDbPxRRx"
      },
      "outputs": [],
      "source": [
        "CLEANR = re.compile('<.*?>|&([a-z0-9]+|#[0-9]{1,6}|#x[0-9a-f]{1,6});')\n",
        "\n",
        "def cleanhtml(row):\n",
        "    cleantext = re.sub(CLEANR, '', row)\n",
        "    return cleantext"
      ]
    },
    {
      "cell_type": "markdown",
      "metadata": {
        "id": "1UMnBNJuxRRy"
      },
      "source": [
        "Organize and drop audio files:"
      ]
    },
    {
      "cell_type": "code",
      "execution_count": null,
      "metadata": {
        "id": "flKuYuTbxRRy"
      },
      "outputs": [],
      "source": [
        "voice_df = pd.DataFrame(pd.read_csv(\"files/unfiltered_voices.csv\"))\n",
        "voice_df = voice_df.dropna() # Remove empty rows\n",
        "voice_df.drop(voice_df[voice_df.voice_line.str.endswith(\".ogg\")].index, inplace = True) # Remove audios\n",
        "voice_df.drop_duplicates(subset =\"voice_line\", keep = \"first\", inplace = True)\n",
        "voice_df.voice_line = voice_df.voice_line.map(cleanhtml) # Remove Html tags\n",
        "voice_df.sort_values(by=\"champion\",ignore_index=True, inplace=True)\n",
        "voice_df.to_csv(\"files/voices.csv\")"
      ]
    },
    {
      "cell_type": "code",
      "execution_count": null,
      "metadata": {
        "id": "8El0Xyi1xRRy",
        "outputId": "89ad33fd-5aad-4e3b-ee11-30daad8246a2",
        "colab": {
          "base_uri": "https://localhost:8080/",
          "height": 424
        }
      },
      "outputs": [
        {
          "output_type": "execute_result",
          "data": {
            "text/plain": [
              "      champion                                       voice_line  is_spoken\n",
              "0       Aatrox           Now, hear the silence of annihilation!       True\n",
              "1       Aatrox           I can smile, and murder while I smile.       True\n",
              "2       Aatrox                             Suffer, as I suffer!       True\n",
              "3       Aatrox                          Carnage... Hoooooome...       True\n",
              "4       Aatrox                      Hear this cursed form sing!       True\n",
              "...        ...                                              ...        ...\n",
              "29183     Zyra                 No place is safe while I'm free!       True\n",
              "29184     Zyra  Our seasons are reversed: my spring, your fall.       True\n",
              "29185     Zyra     Where are your friends? Mine are all around.       True\n",
              "29186     Zyra                              A promising garden.       True\n",
              "29187     Zyra                           This harvest is yours.       True\n",
              "\n",
              "[29188 rows x 3 columns]"
            ],
            "text/html": [
              "\n",
              "  <div id=\"df-fd1ffc39-9900-439b-99ff-9496d66409f9\">\n",
              "    <div class=\"colab-df-container\">\n",
              "      <div>\n",
              "<style scoped>\n",
              "    .dataframe tbody tr th:only-of-type {\n",
              "        vertical-align: middle;\n",
              "    }\n",
              "\n",
              "    .dataframe tbody tr th {\n",
              "        vertical-align: top;\n",
              "    }\n",
              "\n",
              "    .dataframe thead th {\n",
              "        text-align: right;\n",
              "    }\n",
              "</style>\n",
              "<table border=\"1\" class=\"dataframe\">\n",
              "  <thead>\n",
              "    <tr style=\"text-align: right;\">\n",
              "      <th></th>\n",
              "      <th>champion</th>\n",
              "      <th>voice_line</th>\n",
              "      <th>is_spoken</th>\n",
              "    </tr>\n",
              "  </thead>\n",
              "  <tbody>\n",
              "    <tr>\n",
              "      <th>0</th>\n",
              "      <td>Aatrox</td>\n",
              "      <td>Now, hear the silence of annihilation!</td>\n",
              "      <td>True</td>\n",
              "    </tr>\n",
              "    <tr>\n",
              "      <th>1</th>\n",
              "      <td>Aatrox</td>\n",
              "      <td>I can smile, and murder while I smile.</td>\n",
              "      <td>True</td>\n",
              "    </tr>\n",
              "    <tr>\n",
              "      <th>2</th>\n",
              "      <td>Aatrox</td>\n",
              "      <td>Suffer, as I suffer!</td>\n",
              "      <td>True</td>\n",
              "    </tr>\n",
              "    <tr>\n",
              "      <th>3</th>\n",
              "      <td>Aatrox</td>\n",
              "      <td>Carnage... Hoooooome...</td>\n",
              "      <td>True</td>\n",
              "    </tr>\n",
              "    <tr>\n",
              "      <th>4</th>\n",
              "      <td>Aatrox</td>\n",
              "      <td>Hear this cursed form sing!</td>\n",
              "      <td>True</td>\n",
              "    </tr>\n",
              "    <tr>\n",
              "      <th>...</th>\n",
              "      <td>...</td>\n",
              "      <td>...</td>\n",
              "      <td>...</td>\n",
              "    </tr>\n",
              "    <tr>\n",
              "      <th>29183</th>\n",
              "      <td>Zyra</td>\n",
              "      <td>No place is safe while I'm free!</td>\n",
              "      <td>True</td>\n",
              "    </tr>\n",
              "    <tr>\n",
              "      <th>29184</th>\n",
              "      <td>Zyra</td>\n",
              "      <td>Our seasons are reversed: my spring, your fall.</td>\n",
              "      <td>True</td>\n",
              "    </tr>\n",
              "    <tr>\n",
              "      <th>29185</th>\n",
              "      <td>Zyra</td>\n",
              "      <td>Where are your friends? Mine are all around.</td>\n",
              "      <td>True</td>\n",
              "    </tr>\n",
              "    <tr>\n",
              "      <th>29186</th>\n",
              "      <td>Zyra</td>\n",
              "      <td>A promising garden.</td>\n",
              "      <td>True</td>\n",
              "    </tr>\n",
              "    <tr>\n",
              "      <th>29187</th>\n",
              "      <td>Zyra</td>\n",
              "      <td>This harvest is yours.</td>\n",
              "      <td>True</td>\n",
              "    </tr>\n",
              "  </tbody>\n",
              "</table>\n",
              "<p>29188 rows × 3 columns</p>\n",
              "</div>\n",
              "      <button class=\"colab-df-convert\" onclick=\"convertToInteractive('df-fd1ffc39-9900-439b-99ff-9496d66409f9')\"\n",
              "              title=\"Convert this dataframe to an interactive table.\"\n",
              "              style=\"display:none;\">\n",
              "        \n",
              "  <svg xmlns=\"http://www.w3.org/2000/svg\" height=\"24px\"viewBox=\"0 0 24 24\"\n",
              "       width=\"24px\">\n",
              "    <path d=\"M0 0h24v24H0V0z\" fill=\"none\"/>\n",
              "    <path d=\"M18.56 5.44l.94 2.06.94-2.06 2.06-.94-2.06-.94-.94-2.06-.94 2.06-2.06.94zm-11 1L8.5 8.5l.94-2.06 2.06-.94-2.06-.94L8.5 2.5l-.94 2.06-2.06.94zm10 10l.94 2.06.94-2.06 2.06-.94-2.06-.94-.94-2.06-.94 2.06-2.06.94z\"/><path d=\"M17.41 7.96l-1.37-1.37c-.4-.4-.92-.59-1.43-.59-.52 0-1.04.2-1.43.59L10.3 9.45l-7.72 7.72c-.78.78-.78 2.05 0 2.83L4 21.41c.39.39.9.59 1.41.59.51 0 1.02-.2 1.41-.59l7.78-7.78 2.81-2.81c.8-.78.8-2.07 0-2.86zM5.41 20L4 18.59l7.72-7.72 1.47 1.35L5.41 20z\"/>\n",
              "  </svg>\n",
              "      </button>\n",
              "      \n",
              "  <style>\n",
              "    .colab-df-container {\n",
              "      display:flex;\n",
              "      flex-wrap:wrap;\n",
              "      gap: 12px;\n",
              "    }\n",
              "\n",
              "    .colab-df-convert {\n",
              "      background-color: #E8F0FE;\n",
              "      border: none;\n",
              "      border-radius: 50%;\n",
              "      cursor: pointer;\n",
              "      display: none;\n",
              "      fill: #1967D2;\n",
              "      height: 32px;\n",
              "      padding: 0 0 0 0;\n",
              "      width: 32px;\n",
              "    }\n",
              "\n",
              "    .colab-df-convert:hover {\n",
              "      background-color: #E2EBFA;\n",
              "      box-shadow: 0px 1px 2px rgba(60, 64, 67, 0.3), 0px 1px 3px 1px rgba(60, 64, 67, 0.15);\n",
              "      fill: #174EA6;\n",
              "    }\n",
              "\n",
              "    [theme=dark] .colab-df-convert {\n",
              "      background-color: #3B4455;\n",
              "      fill: #D2E3FC;\n",
              "    }\n",
              "\n",
              "    [theme=dark] .colab-df-convert:hover {\n",
              "      background-color: #434B5C;\n",
              "      box-shadow: 0px 1px 3px 1px rgba(0, 0, 0, 0.15);\n",
              "      filter: drop-shadow(0px 1px 2px rgba(0, 0, 0, 0.3));\n",
              "      fill: #FFFFFF;\n",
              "    }\n",
              "  </style>\n",
              "\n",
              "      <script>\n",
              "        const buttonEl =\n",
              "          document.querySelector('#df-fd1ffc39-9900-439b-99ff-9496d66409f9 button.colab-df-convert');\n",
              "        buttonEl.style.display =\n",
              "          google.colab.kernel.accessAllowed ? 'block' : 'none';\n",
              "\n",
              "        async function convertToInteractive(key) {\n",
              "          const element = document.querySelector('#df-fd1ffc39-9900-439b-99ff-9496d66409f9');\n",
              "          const dataTable =\n",
              "            await google.colab.kernel.invokeFunction('convertToInteractive',\n",
              "                                                     [key], {});\n",
              "          if (!dataTable) return;\n",
              "\n",
              "          const docLinkHtml = 'Like what you see? Visit the ' +\n",
              "            '<a target=\"_blank\" href=https://colab.research.google.com/notebooks/data_table.ipynb>data table notebook</a>'\n",
              "            + ' to learn more about interactive tables.';\n",
              "          element.innerHTML = '';\n",
              "          dataTable['output_type'] = 'display_data';\n",
              "          await google.colab.output.renderOutput(dataTable, element);\n",
              "          const docLink = document.createElement('div');\n",
              "          docLink.innerHTML = docLinkHtml;\n",
              "          element.appendChild(docLink);\n",
              "        }\n",
              "      </script>\n",
              "    </div>\n",
              "  </div>\n",
              "  "
            ]
          },
          "metadata": {},
          "execution_count": 87
        }
      ],
      "source": [
        "voice_df"
      ]
    },
    {
      "cell_type": "markdown",
      "metadata": {
        "id": "9ZtPbUDFJFI2"
      },
      "source": [
        "### __Champion gender:__"
      ]
    },
    {
      "cell_type": "markdown",
      "metadata": {
        "id": "dzpI9le1JH11"
      },
      "source": [
        "Set main dataframe:"
      ]
    },
    {
      "cell_type": "code",
      "execution_count": null,
      "metadata": {
        "id": "yiTN3k19JB1y"
      },
      "outputs": [],
      "source": [
        "lol_df = pd.read_csv(\"files/voices.csv\")"
      ]
    },
    {
      "cell_type": "markdown",
      "metadata": {
        "id": "H_KheC0TJRUa"
      },
      "source": [
        "Add gender to respective champions:"
      ]
    },
    {
      "cell_type": "code",
      "execution_count": null,
      "metadata": {
        "id": "zuT9u0-GJUgI"
      },
      "outputs": [],
      "source": [
        "for k,v in genders.items():\n",
        "    lol_df.loc[lol_df[\"champion\"] == k, \"gender\"] = v"
      ]
    },
    {
      "cell_type": "code",
      "execution_count": null,
      "metadata": {
        "id": "Q8ZpDBElJW4k"
      },
      "outputs": [],
      "source": [
        "lol_df"
      ]
    },
    {
      "cell_type": "markdown",
      "metadata": {
        "id": "0CH1nmB1JTHi"
      },
      "source": [
        "### __Champion roles:__"
      ]
    },
    {
      "cell_type": "markdown",
      "metadata": {
        "id": "6JkSOqiTJk9l"
      },
      "source": [
        "Create list from API keys:"
      ]
    },
    {
      "cell_type": "code",
      "execution_count": null,
      "metadata": {
        "id": "2Vi1Ibd5Jnh-"
      },
      "outputs": [],
      "source": [
        "champions_keys = []\n",
        "for info_tuple in champions_all_info:\n",
        "    champions_keys.append(info_tuple[0])"
      ]
    },
    {
      "cell_type": "code",
      "execution_count": null,
      "metadata": {
        "id": "lEJTUudiJp67"
      },
      "outputs": [],
      "source": [
        "champions_keys"
      ]
    },
    {
      "cell_type": "markdown",
      "metadata": {
        "id": "tdrf4QbiJr-x"
      },
      "source": [
        "Storage information about champíons:"
      ]
    },
    {
      "cell_type": "code",
      "execution_count": null,
      "metadata": {
        "id": "-hqgrU9VJ1nZ"
      },
      "outputs": [],
      "source": [
        "champions_tuple = tuple(champions_all_info)"
      ]
    },
    {
      "cell_type": "markdown",
      "metadata": {
        "id": "4oKt-gquJ3vB"
      },
      "source": [
        "Create list with champions:"
      ]
    },
    {
      "cell_type": "code",
      "execution_count": null,
      "metadata": {
        "id": "iL9yAWelJ5cb"
      },
      "outputs": [],
      "source": [
        "list_champions = []\n",
        "for i in champions_tuple:\n",
        "    list_champions.append(i[1][\"name\"])"
      ]
    },
    {
      "cell_type": "markdown",
      "metadata": {
        "id": "06kDA9FLKGUu"
      },
      "source": [
        "Create list with champions and tags:"
      ]
    },
    {
      "cell_type": "code",
      "execution_count": null,
      "metadata": {
        "id": "s07k-d04KG8x"
      },
      "outputs": [],
      "source": [
        "list_tags = []\n",
        "for k,c in zip(champions_keys, list_champions):\n",
        "    tag_champion = response['data'][k]['tags']\n",
        "    try:\n",
        "        list_tags.append([c, f\"{tag_champion[0]}, {tag_champion[1]}\"])\n",
        "    except:\n",
        "        list_tags.append([c, f\"{tag_champion[0]}\"])"
      ]
    },
    {
      "cell_type": "code",
      "execution_count": null,
      "metadata": {
        "id": "TeAbRz2kKJ3z"
      },
      "outputs": [],
      "source": [
        "list_tags"
      ]
    },
    {
      "cell_type": "markdown",
      "metadata": {
        "id": "7OnlFYhBKMN7"
      },
      "source": [
        "Create Dataframe:"
      ]
    },
    {
      "cell_type": "code",
      "execution_count": null,
      "metadata": {
        "id": "7x7ZJ9YuKfeS"
      },
      "outputs": [],
      "source": [
        "tags_df = pd.DataFrame(list_tags, columns=[\"champion\", \"role\"])"
      ]
    },
    {
      "cell_type": "markdown",
      "metadata": {
        "id": "eTr0hj0PKivJ"
      },
      "source": [
        "Apply name correction in dataframe::"
      ]
    },
    {
      "cell_type": "code",
      "execution_count": null,
      "metadata": {
        "id": "OTxM8V3YKjGM"
      },
      "outputs": [],
      "source": [
        "for key, value in correction_roles.items():\n",
        "    lol_df.loc[lol_df[\"champion\"] == key, \"champion\"] = value"
      ]
    },
    {
      "cell_type": "markdown",
      "metadata": {
        "id": "X60M_hL4KlRO"
      },
      "source": [
        "Merge Dataframes:"
      ]
    },
    {
      "cell_type": "code",
      "execution_count": null,
      "metadata": {
        "id": "hB8Dmm93Kqlz"
      },
      "outputs": [],
      "source": [
        "lol_df = lol_df.merge(tags_df)"
      ]
    },
    {
      "cell_type": "code",
      "execution_count": null,
      "metadata": {
        "id": "C1BIaHktKr-D"
      },
      "outputs": [],
      "source": [
        "lol_df"
      ]
    },
    {
      "cell_type": "markdown",
      "metadata": {
        "id": "e9jYvJbLKzzS"
      },
      "source": [
        "### __Champion Stats with Selenium:__"
      ]
    },
    {
      "cell_type": "markdown",
      "metadata": {
        "id": "6QdjLp0FKyL5"
      },
      "source": [
        "**Note:**\n",
        "- you need to install Selenium and Kora to proceed.\n",
        "- Selenium will emulate an hidden browser in your Colab."
      ]
    },
    {
      "cell_type": "code",
      "execution_count": null,
      "metadata": {
        "id": "DCweX1hsK3yG"
      },
      "outputs": [],
      "source": [
        "!pip install requests -q\n",
        "!pip install kora -q\n",
        "!pip install selenium -q"
      ]
    },
    {
      "cell_type": "code",
      "execution_count": null,
      "metadata": {
        "id": "g-smVM54MBAu"
      },
      "outputs": [],
      "source": [
        "from kora.selenium import wd\n",
        "from selenium.webdriver.common.by import By"
      ]
    },
    {
      "cell_type": "code",
      "execution_count": null,
      "metadata": {
        "id": "k6XZA_jhMW_q"
      },
      "outputs": [],
      "source": [
        "url = \"https://na.op.gg/statistics/champions?hl=en_US&region=global\"\n",
        "\n",
        "wd.get(url)\n",
        "wd.implicitly_wait(7)\n",
        "wd.find_element(By.XPATH, '//*[@id=\"content-container\"]/div[2]/table/tbody/tr[118]/td[2]')\n",
        "\n",
        "html = wd.page_source\n",
        "wd.close()"
      ]
    },
    {
      "cell_type": "markdown",
      "metadata": {
        "id": "SNCtdSTyNMay"
      },
      "source": [
        "Transform html table into dataframe:"
      ]
    },
    {
      "cell_type": "code",
      "execution_count": null,
      "metadata": {
        "id": "o1kFkmaoNNZg"
      },
      "outputs": [],
      "source": [
        "stats_df = pd.read_html(html)\n",
        "stats_df = stats_df[1]"
      ]
    },
    {
      "cell_type": "code",
      "execution_count": null,
      "metadata": {
        "id": "KUApTsyVNPlQ"
      },
      "outputs": [],
      "source": [
        "stats_df"
      ]
    },
    {
      "cell_type": "markdown",
      "metadata": {
        "id": "LtNRFSm4NeIc"
      },
      "source": [
        "Clean and organize column names:"
      ]
    },
    {
      "cell_type": "code",
      "execution_count": null,
      "metadata": {
        "id": "XLp5CVniNfmZ"
      },
      "outputs": [],
      "source": [
        "stats_df.drop([\"#\", \"CS\", \"Gold\", \"Games played\", \"KDA\"], inplace=True, axis=1, errors='ignore')\n",
        "stats_df.rename(\n",
        "inplace=True,\n",
        "columns= {\"Champion\": \"champion\", \n",
        "          \"Win rate\": \"win_rate\",\n",
        "          \"Pick ratio per game\": \"pick_rate\",\n",
        "          \"Ban ratio per game\": \"ban_rate\"})\n",
        "          \n",
        "stats_df.sort_values(\"champion\", inplace=True, axis=0, ignore_index=True)"
      ]
    },
    {
      "cell_type": "markdown",
      "metadata": {
        "id": "d2cHVHc-NiCY"
      },
      "source": [
        "Merge Dataframes:"
      ]
    },
    {
      "cell_type": "code",
      "execution_count": null,
      "metadata": {
        "id": "CrIBv-lQNhfx"
      },
      "outputs": [],
      "source": [
        "lol_df = lol_df.merge(stats_df, sort=True)"
      ]
    },
    {
      "cell_type": "code",
      "execution_count": null,
      "metadata": {
        "id": "BgiRcz-UNnPt"
      },
      "outputs": [],
      "source": [
        "stats_df"
      ]
    },
    {
      "cell_type": "code",
      "execution_count": null,
      "metadata": {
        "id": "bTLv_a7QNqEd"
      },
      "outputs": [],
      "source": [
        "lol_df"
      ]
    },
    {
      "cell_type": "markdown",
      "metadata": {
        "id": "xQIcaziyOCdT"
      },
      "source": [
        "### __Champion Region:__"
      ]
    },
    {
      "cell_type": "code",
      "execution_count": null,
      "metadata": {
        "id": "P9Rf6LaWODqs"
      },
      "outputs": [],
      "source": [
        "def get_json_and_scrap(reg):\n",
        "    url = f'https://universe-meeps.leagueoflegends.com/v1/en_gb/factions/{reg}/index.json'\n",
        "    response = requests.get(url).json()\n",
        "\n",
        "    region_name = response['faction']['name']\n",
        "    region_members = response['associated-champions']\n",
        "\n",
        "    for i in region_members:\n",
        "        champ_name = i['title']\n",
        "        champs_with_region.append([champ_name, region_name])\n",
        "    return"
      ]
    },
    {
      "cell_type": "markdown",
      "metadata": {
        "id": "_1PT0lLMPLPt"
      },
      "source": [
        "Run multi-page scrapping:"
      ]
    },
    {
      "cell_type": "code",
      "execution_count": null,
      "metadata": {
        "id": "u6eiikOnO8-S"
      },
      "outputs": [],
      "source": [
        "champs_with_region = []\n",
        "for region in regions:  #   ~8 seconds\n",
        "    get_json_and_scrap(region)"
      ]
    },
    {
      "cell_type": "code",
      "execution_count": null,
      "metadata": {
        "id": "rp_ahSTPPEB7"
      },
      "outputs": [],
      "source": [
        "champs_with_region"
      ]
    },
    {
      "cell_type": "markdown",
      "metadata": {
        "id": "d6XyPR50aP60"
      },
      "source": [
        "Create Dataframe:"
      ]
    },
    {
      "cell_type": "code",
      "execution_count": null,
      "metadata": {
        "id": "K2lxTshIaTl_"
      },
      "outputs": [],
      "source": [
        "scrap_region_df = pd.DataFrame(champs_with_region, columns=[\"champion\",\"region\"])"
      ]
    },
    {
      "cell_type": "code",
      "execution_count": null,
      "metadata": {
        "id": "i9oGuCu2aslz"
      },
      "outputs": [],
      "source": [
        "scrap_region_df"
      ]
    },
    {
      "cell_type": "markdown",
      "metadata": {
        "id": "1b92lpD8a1X8"
      },
      "source": [
        "Create an function to organize dataframes:"
      ]
    },
    {
      "cell_type": "code",
      "execution_count": null,
      "metadata": {
        "id": "Tu2pO8rea15b"
      },
      "outputs": [],
      "source": [
        "def drop_and_sort_rows(dframe):\n",
        "    dframe.drop_duplicates(subset=\"champion\", keep=\"first\", inplace=True)\n",
        "    dframe.sort_values(by=\"champion\",ignore_index=True, inplace=True)\n",
        "    return"
      ]
    },
    {
      "cell_type": "markdown",
      "metadata": {
        "id": "n1m6mTBua4zO"
      },
      "source": [
        "Organize and apply name correction:"
      ]
    },
    {
      "cell_type": "code",
      "execution_count": null,
      "metadata": {
        "id": "85SCYR42a5XA"
      },
      "outputs": [],
      "source": [
        "scrap_region_df.champion.replace(\"’\",\"'\", regex=True, inplace=True)\n",
        "drop_and_sort_rows(scrap_region_df)"
      ]
    },
    {
      "cell_type": "markdown",
      "metadata": {
        "id": "CN0iOoi3a9N7"
      },
      "source": [
        "Create template with organized champions:"
      ]
    },
    {
      "cell_type": "code",
      "execution_count": null,
      "metadata": {
        "id": "QiQ3jbYPa-dZ"
      },
      "outputs": [],
      "source": [
        "main_champions = pd.DataFrame({\"champion\":lol_df.champion.unique()})\n",
        "drop_and_sort_rows(main_champions)"
      ]
    },
    {
      "cell_type": "markdown",
      "metadata": {
        "id": "8yUw1UdBbAbH"
      },
      "source": [
        "Merge data to region Dataframe:"
      ]
    },
    {
      "cell_type": "code",
      "execution_count": null,
      "metadata": {
        "id": "-HfJcyuEbEMQ"
      },
      "outputs": [],
      "source": [
        "full_region_df = main_champions.merge(scrap_region_df, how=\"left\", sort=True)\n",
        "drop_and_sort_rows(full_region_df)"
      ]
    },
    {
      "cell_type": "markdown",
      "metadata": {
        "id": "bbDQE9XLbFdP"
      },
      "source": [
        "Add Runeterra for champions without region:"
      ]
    },
    {
      "cell_type": "code",
      "execution_count": null,
      "metadata": {
        "id": "AdNpIBqvbF4u"
      },
      "outputs": [],
      "source": [
        "full_region_df.region.loc[full_region_df.region.isnull()] = \"Runeterra\""
      ]
    },
    {
      "cell_type": "markdown",
      "metadata": {
        "id": "eHeGoYLsbIQR"
      },
      "source": [
        "Merge and organize dataframes:"
      ]
    },
    {
      "cell_type": "code",
      "execution_count": null,
      "metadata": {
        "id": "9KNDpUyBbJCQ"
      },
      "outputs": [],
      "source": [
        "lol_df = lol_df.merge(full_region_df, sort=True)\n",
        "\n",
        "lol_info_df = lol_df.drop([\"voice_line\", \"is_spoken\"], axis=1)\n",
        "drop_and_sort_rows(lol_info_df)"
      ]
    },
    {
      "cell_type": "code",
      "source": [
        "# Voices Dataframe:\n",
        "voice_df"
      ],
      "metadata": {
        "id": "j-Brvrxa1ZY4"
      },
      "execution_count": null,
      "outputs": []
    },
    {
      "cell_type": "code",
      "execution_count": null,
      "metadata": {
        "id": "d6Blp0r2bMox"
      },
      "outputs": [],
      "source": [
        "# Complete Dataframe with voices:\n",
        "lol_df"
      ]
    },
    {
      "cell_type": "code",
      "execution_count": null,
      "metadata": {
        "id": "ULy2QQNBbNSH"
      },
      "outputs": [],
      "source": [
        "# Complete dataframe without voices:\n",
        "lol_info_df"
      ]
    }
  ],
  "metadata": {
    "colab": {
      "name": "Scrapping_Colab.ipynb",
      "provenance": [],
      "include_colab_link": true
    },
    "kernelspec": {
      "display_name": "Python 3.8.10 64-bit",
      "language": "python",
      "name": "python3"
    },
    "language_info": {
      "codemirror_mode": {
        "name": "ipython",
        "version": 3
      },
      "file_extension": ".py",
      "mimetype": "text/x-python",
      "name": "python",
      "nbconvert_exporter": "python",
      "pygments_lexer": "ipython3",
      "version": "3.8.10"
    },
    "vscode": {
      "interpreter": {
        "hash": "916dbcbb3f70747c44a77c7bcd40155683ae19c65e1c03b4aa3499c5328201f1"
      }
    }
  },
  "nbformat": 4,
  "nbformat_minor": 0
}